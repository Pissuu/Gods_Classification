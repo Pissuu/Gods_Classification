{
 "cells": [
  {
   "cell_type": "code",
   "execution_count": 1,
   "metadata": {},
   "outputs": [],
   "source": [
    "import shutil, os\n",
    "import random"
   ]
  },
  {
   "cell_type": "code",
   "execution_count": 2,
   "metadata": {},
   "outputs": [],
   "source": [
    "list=os.listdir('C://Users//Jairaj Pisupati//AppData//Roaming//SPB_16.6//Gods_Classification//extracted_frames//violent//')\n",
    "random.shuffle(list)\n",
    "train_percent=70\n",
    "test_percent= 100- train_percent\n",
    "train_number=int(train_percent*len(list)/100)\n",
    "test_number=len(list)-train_number\n",
    "# files = ['file1.txt', 'file2.txt', 'file3.txt']\n",
    "# for f in files:\n",
    "#     shutil.copy(f, 'dest_folder')"
   ]
  },
  {
   "cell_type": "code",
   "execution_count": 3,
   "metadata": {},
   "outputs": [],
   "source": [
    "train_files=[]\n",
    "test_files=[]\n",
    "for count, filename in enumerate(list):\n",
    "    if count<train_number:\n",
    "        train_files.append(filename)\n",
    "    else:\n",
    "        test_files.append(filename)"
   ]
  },
  {
   "cell_type": "code",
   "execution_count": 4,
   "metadata": {},
   "outputs": [],
   "source": [
    "for i in train_files:\n",
    "    shutil.copy('C://Users//Jairaj Pisupati//AppData//Roaming//SPB_16.6//Gods_Classification//extracted_frames//violent//'+i,'C://Users//Jairaj Pisupati//AppData//Roaming//SPB_16.6//Gods_Classification//God//God_train//')"
   ]
  },
  {
   "cell_type": "code",
   "execution_count": 5,
   "metadata": {},
   "outputs": [],
   "source": [
    "for i in test_files:\n",
    "    shutil.copy('C://Users//Jairaj Pisupati//AppData//Roaming//SPB_16.6//Gods_Classification//extracted_frames//violent//'+i,'C://Users//Jairaj Pisupati//AppData//Roaming//SPB_16.6//Gods_Classification//God//God_test//')"
   ]
  },
  {
   "cell_type": "code",
   "execution_count": 6,
   "metadata": {},
   "outputs": [],
   "source": [
    "list=os.listdir('C://Users//Jairaj Pisupati//AppData//Roaming//SPB_16.6//Gods_Classification//extracted_frames//non_violent//')\n",
    "random.shuffle(list)\n",
    "train_percent=70\n",
    "test_percent= 100- train_percent\n",
    "train_number=int(train_percent*len(list)/100)\n",
    "test_number=len(list)-train_number\n",
    "# files = ['file1.txt', 'file2.txt', 'file3.txt']\n",
    "# for f in files:\n",
    "#     shutil.copy(f, 'dest_folder')"
   ]
  },
  {
   "cell_type": "code",
   "execution_count": 7,
   "metadata": {},
   "outputs": [],
   "source": [
    "train_files=[]\n",
    "test_files=[]\n",
    "for count, filename in enumerate(list):\n",
    "    if count<train_number:\n",
    "        train_files.append(filename)\n",
    "    else:\n",
    "        test_files.append(filename)"
   ]
  },
  {
   "cell_type": "code",
   "execution_count": 8,
   "metadata": {},
   "outputs": [],
   "source": [
    "for i in train_files:\n",
    "    shutil.copy('C://Users//Jairaj Pisupati//AppData//Roaming//SPB_16.6//Gods_Classification//extracted_frames//non_violent//'+i,'C://Users//Jairaj Pisupati//AppData//Roaming//SPB_16.6//Gods_Classification//God//God_train//')"
   ]
  },
  {
   "cell_type": "code",
   "execution_count": 9,
   "metadata": {},
   "outputs": [],
   "source": [
    "for i in test_files:\n",
    "    shutil.copy('C://Users//Jairaj Pisupati//AppData//Roaming//SPB_16.6//Gods_Classification//extracted_frames//non_violent//'+i,'C://Users//Jairaj Pisupati//AppData//Roaming//SPB_16.6//Gods_Classification//God//God_test//')"
   ]
  },
  {
   "cell_type": "code",
   "execution_count": 80,
   "metadata": {},
   "outputs": [
    {
     "name": "stdout",
     "output_type": "stream",
     "text": [
      "133\n"
     ]
    }
   ],
   "source": [
    "print(train_number)"
   ]
  },
  {
   "cell_type": "code",
   "execution_count": 81,
   "metadata": {},
   "outputs": [
    {
     "name": "stdout",
     "output_type": "stream",
     "text": [
      "190\n"
     ]
    }
   ],
   "source": [
    "print(len(list))"
   ]
  },
  {
   "cell_type": "code",
   "execution_count": 29,
   "metadata": {},
   "outputs": [
    {
     "name": "stdout",
     "output_type": "stream",
     "text": [
      "3749\n"
     ]
    }
   ],
   "source": [
    "print(test_number)"
   ]
  },
  {
   "cell_type": "code",
   "execution_count": 30,
   "metadata": {},
   "outputs": [
    {
     "name": "stdout",
     "output_type": "stream",
     "text": [
      "12498\n"
     ]
    }
   ],
   "source": [
    "print(test_number+train_number)"
   ]
  },
  {
   "cell_type": "code",
   "execution_count": 41,
   "metadata": {},
   "outputs": [
    {
     "name": "stdout",
     "output_type": "stream",
     "text": [
      "8749\n"
     ]
    }
   ],
   "source": [
    "print(len(train_files))"
   ]
  },
  {
   "cell_type": "code",
   "execution_count": 42,
   "metadata": {},
   "outputs": [
    {
     "name": "stdout",
     "output_type": "stream",
     "text": [
      "3750\n"
     ]
    }
   ],
   "source": [
    "print(len(test_files))"
   ]
  },
  {
   "cell_type": "code",
   "execution_count": 82,
   "metadata": {},
   "outputs": [
    {
     "ename": "NameError",
     "evalue": "name 'main' is not defined",
     "output_type": "error",
     "traceback": [
      "\u001b[1;31m---------------------------------------------------------------------------\u001b[0m",
      "\u001b[1;31mNameError\u001b[0m                                 Traceback (most recent call last)",
      "\u001b[1;32m<ipython-input-82-7d85de46977c>\u001b[0m in \u001b[0;36m<module>\u001b[1;34m\u001b[0m\n\u001b[1;32m----> 1\u001b[1;33m \u001b[0mmain\u001b[0m\u001b[1;33m.\u001b[0m\u001b[0mpy\u001b[0m\u001b[1;33m\u001b[0m\u001b[1;33m\u001b[0m\u001b[0m\n\u001b[0m",
      "\u001b[1;31mNameError\u001b[0m: name 'main' is not defined"
     ]
    }
   ],
   "source": []
  },
  {
   "cell_type": "code",
   "execution_count": null,
   "metadata": {},
   "outputs": [],
   "source": []
  }
 ],
 "metadata": {
  "kernelspec": {
   "display_name": "Python 3",
   "language": "python",
   "name": "python3"
  },
  "language_info": {
   "codemirror_mode": {
    "name": "ipython",
    "version": 3
   },
   "file_extension": ".py",
   "mimetype": "text/x-python",
   "name": "python",
   "nbconvert_exporter": "python",
   "pygments_lexer": "ipython3",
   "version": "3.7.3"
  }
 },
 "nbformat": 4,
 "nbformat_minor": 2
}
