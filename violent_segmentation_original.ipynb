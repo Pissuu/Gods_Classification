{
 "cells": [
  {
   "cell_type": "code",
   "execution_count": 4,
   "metadata": {},
   "outputs": [],
   "source": [
    "import cv2\n",
    "import numpy as np\n",
    "import argparse\n",
    "import os\n",
    "import csv\n",
    "import time\n",
    "from random import randint"
   ]
  },
  {
   "cell_type": "code",
   "execution_count": 5,
   "metadata": {},
   "outputs": [],
   "source": [
    "list=os.listdir(r'C:\\Users\\Jairaj Pisupati\\AppData\\Roaming\\SPB_16.6\\Gods_Classification\\videos')\n",
    "path=r'C:\\Users\\Jairaj Pisupati\\AppData\\Roaming\\SPB_16.6\\Gods_Classification\\videos'"
   ]
  },
  {
   "cell_type": "code",
   "execution_count": 6,
   "metadata": {},
   "outputs": [
    {
     "name": "stdout",
     "output_type": "stream",
     "text": [
      "JP_NV_Greeting_Edited\n",
      "C:\\Users\\Jairaj Pisupati\\AppData\\Roaming\\SPB_16.6\\Gods_Classification\\videos\\JP_NV_Greeting_Edited.mp4\n",
      "Frames per second using video.get(cv2.CAP_PROP_FPS) : 30\n"
     ]
    }
   ],
   "source": [
    "for video_name in list:\n",
    "    video_file_name=video_name.split('.')[-2]\n",
    "    print(video_file_name)\n",
    "#     path='C://User//Jairaj Pisupati//AppData//Roaming//SPB_16.6//Gods_Classification//videos'\n",
    "    path=r'C:\\Users\\Jairaj Pisupati\\AppData\\Roaming\\SPB_16.6\\Gods_Classification\\videos'\n",
    "    path=os.path.join(path,video_file_name+\".mp4\")\n",
    "    print(path)\n",
    "    cap = cv2.VideoCapture(path)\n",
    "    #Find FPS\n",
    "    (major_ver, minor_ver, subminor_ver) = (cv2.__version__).split('.')\n",
    "    if int(major_ver) < 3:\n",
    "        fps = int(cap.get(cv2.cv.CV_CAP_PROP_FPS))\n",
    "        print (\"Frames per second using video.get(cv2.cv.CV_CAP_PROP_FPS): {0}\".format(fps))\n",
    "    else:\n",
    "        fps = int(cap.get(cv2.CAP_PROP_FPS))\n",
    "        print(\"Frames per second using video.get(cv2.CAP_PROP_FPS) : {0}\".format(fps))\n",
    "\n",
    "    i=0\n",
    "    j=0\n",
    "    final_fps=4\n",
    "    block=1\n",
    "    selected_frames=[]\n",
    "    while (len(selected_frames)<final_fps):\n",
    "        r=randint(1,fps)\n",
    "        if r not in selected_frames:\n",
    "            selected_frames.append(r)\n",
    "    selected_frames.sort()\n",
    "\n",
    "    def update_frames(lb,ub):\n",
    "        selected_frames=[]\n",
    "        while (len(selected_frames) < final_fps):\n",
    "            r = randint(lb, ub)\n",
    "            if r not in selected_frames:\n",
    "                selected_frames.append(r)\n",
    "        selected_frames.sort()\n",
    "        return selected_frames\n",
    "\n",
    "    v_name=video_name.split('.')\n",
    "    v=v_name[0]\n",
    "\n",
    "    while(cap.isOpened()):\n",
    "        if j == final_fps:\n",
    "            lb = fps * block\n",
    "            ub = fps * (block + 1)\n",
    "            selected_frames = update_frames(lb, ub)\n",
    "            j = 0\n",
    "            block += 1\n",
    "        ret, frame = cap.read()\n",
    "        if ret == False:\n",
    "            break\n",
    "        f=i+500\n",
    "        fname = v + '-frame' + str(i) + '.jpg'\n",
    "        if i in selected_frames:\n",
    "            cv2.imwrite('C:/Users/Jairaj Pisupati/AppData/Roaming/SPB_16.6/Gods_Classification/extracted_frames/non_violent/'+fname,frame)\n",
    "            j += 1\n",
    "        i += 1\n",
    "\n",
    "    cap.release()\n",
    "    cv2.destroyAllWindows()"
   ]
  },
  {
   "cell_type": "code",
   "execution_count": null,
   "metadata": {},
   "outputs": [],
   "source": []
  }
 ],
 "metadata": {
  "kernelspec": {
   "display_name": "Python 3",
   "language": "python",
   "name": "python3"
  },
  "language_info": {
   "codemirror_mode": {
    "name": "ipython",
    "version": 3
   },
   "file_extension": ".py",
   "mimetype": "text/x-python",
   "name": "python",
   "nbconvert_exporter": "python",
   "pygments_lexer": "ipython3",
   "version": "3.7.3"
  }
 },
 "nbformat": 4,
 "nbformat_minor": 2
}
