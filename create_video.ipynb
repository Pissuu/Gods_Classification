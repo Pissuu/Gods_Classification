{
 "cells": [
  {
   "cell_type": "code",
   "execution_count": 2,
   "metadata": {},
   "outputs": [],
   "source": [
    "# importing libraries \n",
    "import os \n",
    "import cv2  \n",
    "from PIL import Image  \n",
    "  \n",
    "# Checking the current directory path \n",
    "# print(os.getcwd())  \n",
    "  \n",
    "# Folder which contains all the images \n",
    "# from which video is to be generated \n",
    "os.chdir(r'C:\\Users\\Jairaj Pisupati\\AppData\\Roaming\\SPB_16.6\\Gods_Classification\\God\\Integrated')   \n",
    "path = r'C:\\Users\\Jairaj Pisupati\\AppData\\Roaming\\SPB_16.6\\Gods_Classification\\God\\Integrated'\n",
    "  \n",
    "mean_height = 0\n",
    "mean_width = 0\n",
    "  \n",
    "num_of_images = len(os.listdir('.')) \n",
    "# print(num_of_images) \n",
    "  \n",
    "for file in os.listdir('.'): \n",
    "    im = Image.open(os.path.join(path, file)) \n",
    "    width, height = im.size \n",
    "    mean_width += width \n",
    "    mean_height += height \n",
    "  \n",
    "mean_width = int(mean_width / num_of_images) \n",
    "mean_height = int(mean_height / num_of_images) \n",
    "for file in os.listdir(r'C:\\Users\\Jairaj Pisupati\\AppData\\Roaming\\SPB_16.6\\Gods_Classification\\God\\Integrated'): \n",
    "    if file.endswith(\".jpg\") or file.endswith(\".jpeg\") or file.endswith(\"png\"): \n",
    "        # opening image using PIL Image \n",
    "        im = Image.open(os.path.join(path, file))  \n",
    "        width, height = im.size    \n",
    "        imResize = im.resize((mean_width, mean_height), Image.ANTIALIAS)  \n",
    "        imResize.save( file, 'JPEG', quality = 95) # setting quality \n",
    "        # printing each resized image name \n",
    "#         print(im.filename.split('\\\\')[-1], \" is resized\")  \n",
    "  \n",
    "  \n",
    "# Video Generating function \n",
    "def generate_video(): \n",
    "    image_folder = r'C:\\Users\\Jairaj Pisupati\\AppData\\Roaming\\SPB_16.6\\Gods_Classification\\God\\Integrated'# make sure to use your folder \n",
    "    video_name = 'mygeneratedvideo.avi'\n",
    "    os.chdir(r'C:\\Users\\Jairaj Pisupati\\AppData\\Roaming\\SPB_16.6\\Gods_Classification\\God\\Integrated') \n",
    "    \n",
    "    image_order=[]\n",
    "    for image in os.listdir(image_folder):\n",
    "        num=image.split('.jpg_classified.jpg')[-2]\n",
    "        num=int(num.split('-frame')[-1])\n",
    "        image_order.append(num)\n",
    "    image_order.sort()\n",
    "    final_image_order=[]\n",
    "    for i in image_order:\n",
    "        for j in os.listdir(image_folder):\n",
    "            num=j.split('.jpg_classified.jpg')[-2]\n",
    "            num=int(num.split('-frame')[-1])\n",
    "            if i==num:\n",
    "                final_image_order.append(j)\n",
    "                continue\n",
    "            \n",
    "    images = [img for img in os.listdir(image_folder) \n",
    "              if img.endswith(\".jpg\") or\n",
    "                 img.endswith(\".jpeg\") or\n",
    "                 img.endswith(\"png\")] \n",
    "     \n",
    "    frame = cv2.imread(os.path.join(image_folder, images[0])) \n",
    "  \n",
    "    # setting the frame width, height width \n",
    "    # the width, height of first image \n",
    "    height, width, layers = frame.shape   \n",
    "  \n",
    "    video = cv2.VideoWriter(video_name, 0, 3, (width, height))  \n",
    "  \n",
    "    # Appending the images to the video one by one \n",
    "    for image in final_image_order:  \n",
    "        video.write(cv2.imread(os.path.join(image_folder, image)))  \n",
    "      \n",
    "    # Deallocating memories taken for window creation \n",
    "    cv2.destroyAllWindows()  \n",
    "    video.release()  # releasing the video generated \n",
    "  \n",
    "  \n",
    "# # Calling the generate_video function \n",
    "generate_video()"
   ]
  },
  {
   "cell_type": "code",
   "execution_count": null,
   "metadata": {},
   "outputs": [],
   "source": [
    "num_of_images = len(os.listdir('.'))\n",
    "print(num_of_images)"
   ]
  },
  {
   "cell_type": "code",
   "execution_count": null,
   "metadata": {},
   "outputs": [],
   "source": [
    "print(os.listdir(image_folder))"
   ]
  },
  {
   "cell_type": "code",
   "execution_count": 1,
   "metadata": {},
   "outputs": [
    {
     "ename": "NameError",
     "evalue": "name 'os' is not defined",
     "output_type": "error",
     "traceback": [
      "\u001b[1;31m---------------------------------------------------------------------------\u001b[0m",
      "\u001b[1;31mNameError\u001b[0m                                 Traceback (most recent call last)",
      "\u001b[1;32m<ipython-input-1-9d814690ca22>\u001b[0m in \u001b[0;36m<module>\u001b[1;34m\u001b[0m\n\u001b[0;32m      1\u001b[0m \u001b[0mimage_order\u001b[0m\u001b[1;33m=\u001b[0m\u001b[1;33m[\u001b[0m\u001b[1;33m]\u001b[0m\u001b[1;33m\u001b[0m\u001b[1;33m\u001b[0m\u001b[0m\n\u001b[1;32m----> 2\u001b[1;33m \u001b[1;32mfor\u001b[0m \u001b[0mimage\u001b[0m \u001b[1;32min\u001b[0m \u001b[0mos\u001b[0m\u001b[1;33m.\u001b[0m\u001b[0mlistdir\u001b[0m\u001b[1;33m(\u001b[0m\u001b[0mimage_folder\u001b[0m\u001b[1;33m)\u001b[0m\u001b[1;33m:\u001b[0m\u001b[1;33m\u001b[0m\u001b[1;33m\u001b[0m\u001b[0m\n\u001b[0m\u001b[0;32m      3\u001b[0m     \u001b[0mnum\u001b[0m\u001b[1;33m=\u001b[0m\u001b[0mint\u001b[0m\u001b[1;33m(\u001b[0m\u001b[0mimage\u001b[0m\u001b[1;33m.\u001b[0m\u001b[0msplit\u001b[0m\u001b[1;33m(\u001b[0m\u001b[1;34m'violent.jpg'\u001b[0m\u001b[1;33m)\u001b[0m\u001b[1;33m[\u001b[0m\u001b[1;33m-\u001b[0m\u001b[1;36m2\u001b[0m\u001b[1;33m]\u001b[0m\u001b[1;33m)\u001b[0m\u001b[1;33m\u001b[0m\u001b[1;33m\u001b[0m\u001b[0m\n\u001b[0;32m      4\u001b[0m     \u001b[0mimage_order\u001b[0m\u001b[1;33m.\u001b[0m\u001b[0mappend\u001b[0m\u001b[1;33m(\u001b[0m\u001b[0mnum\u001b[0m\u001b[1;33m)\u001b[0m\u001b[1;33m\u001b[0m\u001b[1;33m\u001b[0m\u001b[0m\n\u001b[0;32m      5\u001b[0m \u001b[0mimage_order\u001b[0m\u001b[1;33m.\u001b[0m\u001b[0msort\u001b[0m\u001b[1;33m(\u001b[0m\u001b[1;33m)\u001b[0m\u001b[1;33m\u001b[0m\u001b[1;33m\u001b[0m\u001b[0m\n",
      "\u001b[1;31mNameError\u001b[0m: name 'os' is not defined"
     ]
    }
   ],
   "source": [
    "image_order=[]\n",
    "for image in os.listdir(image_folder):\n",
    "    num=int(image.split('violent.jpg')[-2])\n",
    "    image_order.append(num)\n",
    "image_order.sort()"
   ]
  },
  {
   "cell_type": "code",
   "execution_count": 3,
   "metadata": {},
   "outputs": [],
   "source": [
    "for i in image_order:\n",
    "    for j in os.listdir(image_folder):\n",
    "        if i==int(j.split('violent.jpg')[-2]):\n",
    "            print(j)\n",
    "            continue\n",
    "        \n",
    "        "
   ]
  },
  {
   "cell_type": "code",
   "execution_count": 5,
   "metadata": {},
   "outputs": [
    {
     "ename": "NameError",
     "evalue": "name 'final_image_order' is not defined",
     "output_type": "error",
     "traceback": [
      "\u001b[1;31m---------------------------------------------------------------------------\u001b[0m",
      "\u001b[1;31mNameError\u001b[0m                                 Traceback (most recent call last)",
      "\u001b[1;32m<ipython-input-5-4a946311dccc>\u001b[0m in \u001b[0;36m<module>\u001b[1;34m\u001b[0m\n\u001b[1;32m----> 1\u001b[1;33m \u001b[1;32mfor\u001b[0m \u001b[0mimage\u001b[0m \u001b[1;32min\u001b[0m \u001b[0mfinal_image_order\u001b[0m\u001b[1;33m:\u001b[0m\u001b[1;33m\u001b[0m\u001b[1;33m\u001b[0m\u001b[0m\n\u001b[0m\u001b[0;32m      2\u001b[0m     \u001b[0mprint\u001b[0m\u001b[1;33m(\u001b[0m\u001b[0mimage\u001b[0m\u001b[1;33m)\u001b[0m\u001b[1;33m\u001b[0m\u001b[1;33m\u001b[0m\u001b[0m\n",
      "\u001b[1;31mNameError\u001b[0m: name 'final_image_order' is not defined"
     ]
    }
   ],
   "source": [
    "for image in final_image_order:\n",
    "    print(image)"
   ]
  },
  {
   "cell_type": "code",
   "execution_count": null,
   "metadata": {},
   "outputs": [],
   "source": []
  }
 ],
 "metadata": {
  "kernelspec": {
   "display_name": "Python 3",
   "language": "python",
   "name": "python3"
  },
  "language_info": {
   "codemirror_mode": {
    "name": "ipython",
    "version": 3
   },
   "file_extension": ".py",
   "mimetype": "text/x-python",
   "name": "python",
   "nbconvert_exporter": "python",
   "pygments_lexer": "ipython3",
   "version": "3.7.3"
  }
 },
 "nbformat": 4,
 "nbformat_minor": 2
}
