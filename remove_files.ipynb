{
 "cells": [
  {
   "cell_type": "code",
   "execution_count": 1,
   "metadata": {},
   "outputs": [],
   "source": [
    "import os"
   ]
  },
  {
   "cell_type": "code",
   "execution_count": 18,
   "metadata": {},
   "outputs": [],
   "source": [
    "wordlabel=str\n",
    "path='F://desktop_links_are_from_here//final_year_project//cotur//PetImages//train//'\n",
    "list=os.listdir(r'F:\\desktop_links_are_from_here\\final_year_project\\cotur\\PetImages\\train')\n",
    "for i in list:\n",
    "    word_label=i.split('.')[-2]\n",
    "    word_label=word_label[-3:]\n",
    "    if word_label==\"dog\":\n",
    "        final_path=path+i\n",
    "        os.remove(final_path)\n"
   ]
  },
  {
   "cell_type": "code",
   "execution_count": null,
   "metadata": {},
   "outputs": [],
   "source": []
  }
 ],
 "metadata": {
  "kernelspec": {
   "display_name": "Python 3",
   "language": "python",
   "name": "python3"
  },
  "language_info": {
   "codemirror_mode": {
    "name": "ipython",
    "version": 3
   },
   "file_extension": ".py",
   "mimetype": "text/x-python",
   "name": "python",
   "nbconvert_exporter": "python",
   "pygments_lexer": "ipython3",
   "version": "3.7.3"
  }
 },
 "nbformat": 4,
 "nbformat_minor": 2
}
