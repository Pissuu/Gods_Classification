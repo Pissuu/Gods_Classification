{
 "cells": [
  {
   "cell_type": "code",
   "execution_count": 4,
   "metadata": {},
   "outputs": [
    {
     "name": "stdout",
     "output_type": "stream",
     "text": [
      "WARNING:tensorflow:Large dropout rate: 0.8 (>0.5). In TensorFlow 2.x, dropout() uses dropout rate instead of keep_prob. Please ensure that this is intended.\n"
     ]
    }
   ],
   "source": [
    "from random import shuffle # mixing up or currently ordered data that might lead our network astray in training.\n",
    "from tqdm import tqdm      # a nice pretty percentage bar for tasks. Thanks to viewer Daniel BA1/4hler for this suggestion\n",
    "from PIL import Image, ImageOps\n",
    "import time\n",
    "from keras.layers import Input, Dense, Activation, BatchNormalization, Flatten, Conv2D\n",
    "from keras.layers import MaxPooling2D, Dropout\n",
    "from keras.models import Model, load_model\n",
    "import warnings\n",
    "warnings.filterwarnings(\"ignore\")\n",
    "\n",
    "import matplotlib.pyplot as plt\n",
    "import cv2\n",
    "import numpy as np\n",
    "import argparse\n",
    "import os\n",
    "import csv\n",
    "import time\n",
    "from random import randint\n",
    "\n",
    "model = load_model(r'C:\\Users\\Jairaj Pisupati\\AppData\\Roaming\\SPB_16.6\\Gods_Classification/model2.h5')\n",
    "\n"
   ]
  },
  {
   "cell_type": "code",
   "execution_count": 3,
   "metadata": {},
   "outputs": [
    {
     "ename": "error",
     "evalue": "OpenCV(3.4.1) C:\\Miniconda3\\conda-bld\\opencv-suite_1533128839831\\work\\modules\\imgproc\\src\\resize.cpp:4044: error: (-215) ssize.width > 0 && ssize.height > 0 in function cv::resize\n",
     "output_type": "error",
     "traceback": [
      "\u001b[1;31m---------------------------------------------------------------------------\u001b[0m",
      "\u001b[1;31merror\u001b[0m                                     Traceback (most recent call last)",
      "\u001b[1;32m<ipython-input-3-50c13c7e3de9>\u001b[0m in \u001b[0;36m<module>\u001b[1;34m\u001b[0m\n\u001b[0;32m     15\u001b[0m     \u001b[0mimg_path\u001b[0m \u001b[1;33m=\u001b[0m \u001b[1;34mr'C:/Users/Jairaj Pisupati/AppData/Roaming/SPB_16.6/Gods_Classification/God/Integrated/'\u001b[0m\u001b[1;33m+\u001b[0m\u001b[0mfname\u001b[0m\u001b[1;33m\u001b[0m\u001b[1;33m\u001b[0m\u001b[0m\n\u001b[0;32m     16\u001b[0m     \u001b[0mimg\u001b[0m \u001b[1;33m=\u001b[0m \u001b[0mcv2\u001b[0m\u001b[1;33m.\u001b[0m\u001b[0mimread\u001b[0m\u001b[1;33m(\u001b[0m\u001b[0mimg_path\u001b[0m\u001b[1;33m,\u001b[0m\u001b[0mcv2\u001b[0m\u001b[1;33m.\u001b[0m\u001b[0mIMREAD_GRAYSCALE\u001b[0m\u001b[1;33m)\u001b[0m\u001b[1;33m\u001b[0m\u001b[1;33m\u001b[0m\u001b[0m\n\u001b[1;32m---> 17\u001b[1;33m     \u001b[0mimg\u001b[0m \u001b[1;33m=\u001b[0m \u001b[0mcv2\u001b[0m\u001b[1;33m.\u001b[0m\u001b[0mresize\u001b[0m\u001b[1;33m(\u001b[0m\u001b[0mimg\u001b[0m\u001b[1;33m,\u001b[0m \u001b[1;33m(\u001b[0m\u001b[0mIMG_SIZE\u001b[0m\u001b[1;33m,\u001b[0m\u001b[0mIMG_SIZE\u001b[0m\u001b[1;33m)\u001b[0m\u001b[1;33m)\u001b[0m\u001b[1;33m\u001b[0m\u001b[1;33m\u001b[0m\u001b[0m\n\u001b[0m\u001b[0;32m     18\u001b[0m     \u001b[0mplt\u001b[0m\u001b[1;33m.\u001b[0m\u001b[0mimshow\u001b[0m\u001b[1;33m(\u001b[0m\u001b[0mimg\u001b[0m\u001b[1;33m)\u001b[0m\u001b[1;33m\u001b[0m\u001b[1;33m\u001b[0m\u001b[0m\n\u001b[0;32m     19\u001b[0m     \u001b[0mpred\u001b[0m \u001b[1;33m=\u001b[0m \u001b[0mmodel\u001b[0m\u001b[1;33m.\u001b[0m\u001b[0mpredict\u001b[0m\u001b[1;33m(\u001b[0m\u001b[0mimg\u001b[0m\u001b[1;33m.\u001b[0m\u001b[0mreshape\u001b[0m\u001b[1;33m(\u001b[0m\u001b[1;36m1\u001b[0m\u001b[1;33m,\u001b[0m \u001b[0mIMG_SIZE\u001b[0m\u001b[1;33m,\u001b[0m \u001b[0mIMG_SIZE\u001b[0m\u001b[1;33m,\u001b[0m \u001b[1;36m1\u001b[0m\u001b[1;33m)\u001b[0m\u001b[1;33m)\u001b[0m\u001b[1;33m\u001b[0m\u001b[1;33m\u001b[0m\u001b[0m\n",
      "\u001b[1;31merror\u001b[0m: OpenCV(3.4.1) C:\\Miniconda3\\conda-bld\\opencv-suite_1533128839831\\work\\modules\\imgproc\\src\\resize.cpp:4044: error: (-215) ssize.width > 0 && ssize.height > 0 in function cv::resize\n"
     ]
    }
   ],
   "source": [
    "IMG_SIZE=50\n",
    "def add_border(input_image, output_image, border, color=0):\n",
    "    img = Image.open(input_image)\n",
    "\n",
    "    if isinstance(border, int) or isinstance(border, tuple):\n",
    "        bimg = ImageOps.expand(img, border=border, fill=color)\n",
    "    else:\n",
    "        raise RuntimeError('Border is not an integer or tuple!')\n",
    "\n",
    "    bimg.save(output_image)\n",
    "\n",
    "list=os.listdir('C://Users//Jairaj Pisupati//AppData//Roaming//SPB_16.6//Gods_Classification//God//Integrated//')\n",
    "for i in list:\n",
    "    fname=i\n",
    "    img_path = r'C:/Users/Jairaj Pisupati/AppData/Roaming/SPB_16.6/Gods_Classification/God/Integrated/'+fname\n",
    "    img = cv2.imread(img_path,cv2.IMREAD_GRAYSCALE)\n",
    "    img = cv2.resize(img, (IMG_SIZE,IMG_SIZE))\n",
    "    plt.imshow(img)\n",
    "    pred = model.predict(img.reshape(1, IMG_SIZE, IMG_SIZE, 1))\n",
    "    if pred[0][0] > pred[0][1]:\n",
    "#         cv2.imwrite('C:/Users/Jairaj Pisupati/AppData/Roaming/SPB_16.6/Gods_Classification/God/Integrated/'+fname,img)\n",
    "        in_img = 'C:/Users/Jairaj Pisupati/AppData/Roaming/SPB_16.6/Gods_Classification/God/Integrated/'+fname\n",
    "        output_img = in_img +\"_classified.jpg\"\n",
    "        add_border(in_img,output_img,border=100,color='green')\n",
    "        os.remove(in_img)\n",
    "    else:\n",
    "#         cv2.imwrite('C:/Users/Jairaj Pisupati/AppData/Roaming/SPB_16.6/Gods_Classification/God/Integrated/'+fname,img)\n",
    "        in_img = 'C:/Users/Jairaj Pisupati/AppData/Roaming/SPB_16.6/Gods_Classification/God/Integrated/'+fname\n",
    "        output_img = in_img +\"_classified.jpg\"\n",
    "        add_border(in_img,output_img,border=100,color='red')\n",
    "        os.remove(in_img)\n",
    "\n",
    "# #     cv2.destroyAllWindows()"
   ]
  },
  {
   "cell_type": "code",
   "execution_count": null,
   "metadata": {},
   "outputs": [],
   "source": [
    "\n"
   ]
  },
  {
   "cell_type": "code",
   "execution_count": null,
   "metadata": {},
   "outputs": [],
   "source": []
  }
 ],
 "metadata": {
  "kernelspec": {
   "display_name": "Python 3",
   "language": "python",
   "name": "python3"
  },
  "language_info": {
   "codemirror_mode": {
    "name": "ipython",
    "version": 3
   },
   "file_extension": ".py",
   "mimetype": "text/x-python",
   "name": "python",
   "nbconvert_exporter": "python",
   "pygments_lexer": "ipython3",
   "version": "3.7.3"
  }
 },
 "nbformat": 4,
 "nbformat_minor": 2
}
