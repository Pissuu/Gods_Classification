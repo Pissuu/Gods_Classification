{
 "cells": [
  {
   "cell_type": "code",
   "execution_count": 1,
   "metadata": {},
   "outputs": [],
   "source": [
    "import shutil\n",
    "import os"
   ]
  },
  {
   "cell_type": "code",
   "execution_count": 2,
   "metadata": {},
   "outputs": [],
   "source": [
    "for count, filename in enumerate(os.listdir('C://Users//Jairaj Pisupati//AppData//Roaming//SPB_16.6//Gods_Classification//extracted_frames//non_violent//')): \n",
    "    dst = str(count)+\"non_violent.jpg\"\n",
    "#     print(count)\n",
    "#    print(filename)\n",
    "    src ='C://Users//Jairaj Pisupati//AppData//Roaming//SPB_16.6//Gods_Classification//extracted_frames//non_violent//' + filename \n",
    "    dst ='C://Users//Jairaj Pisupati//AppData//Roaming//SPB_16.6//Gods_Classification//extracted_frames//non_violent//' + dst \n",
    "#      rename() function will \n",
    "#      rename all the files \n",
    "#     print(src)\n",
    "    os.rename(src, dst)"
   ]
  },
  {
   "cell_type": "code",
   "execution_count": 3,
   "metadata": {},
   "outputs": [],
   "source": [
    "for count, filename in enumerate(os.listdir('C://Users//Jairaj Pisupati//AppData//Roaming//SPB_16.6//Gods_Classification//extracted_frames//violent//')): \n",
    "    dst = str(count)+\"violent.jpg\"\n",
    "#     print(count)\n",
    "#    print(filename)\n",
    "    src ='C://Users//Jairaj Pisupati//AppData//Roaming//SPB_16.6//Gods_Classification//extracted_frames//violent//' + filename \n",
    "    dst ='C://Users//Jairaj Pisupati//AppData//Roaming//SPB_16.6//Gods_Classification//extracted_frames//violent//' + dst \n",
    "#      rename() function will \n",
    "#      rename all the files \n",
    "#     print(src)\n",
    "    os.rename(src, dst)"
   ]
  },
  {
   "cell_type": "code",
   "execution_count": 95,
   "metadata": {},
   "outputs": [
    {
     "name": "stdout",
     "output_type": "stream",
     "text": [
      "12501\n"
     ]
    }
   ],
   "source": [
    "print(len(list))"
   ]
  }
 ],
 "metadata": {
  "kernelspec": {
   "display_name": "Python 3",
   "language": "python",
   "name": "python3"
  },
  "language_info": {
   "codemirror_mode": {
    "name": "ipython",
    "version": 3
   },
   "file_extension": ".py",
   "mimetype": "text/x-python",
   "name": "python",
   "nbconvert_exporter": "python",
   "pygments_lexer": "ipython3",
   "version": "3.7.3"
  }
 },
 "nbformat": 4,
 "nbformat_minor": 2
}
