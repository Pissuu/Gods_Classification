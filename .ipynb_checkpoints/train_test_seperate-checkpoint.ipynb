{
 "cells": [
  {
   "cell_type": "code",
   "execution_count": 1,
   "metadata": {},
   "outputs": [],
   "source": [
    "import shutil, os"
   ]
  },
  {
   "cell_type": "code",
   "execution_count": 26,
   "metadata": {},
   "outputs": [],
   "source": [
    "list=os.listdir('F://desktop_links_are_from_here//final_year_project//cotur//PetImages//Cat//')\n",
    "train_percent=70\n",
    "test_percent= 100- train_percent\n",
    "train_number=int(train_percent*len(list)/100)\n",
    "test_number=len(list)-train_number\n",
    "# files = ['file1.txt', 'file2.txt', 'file3.txt']\n",
    "# for f in files:\n",
    "#     shutil.copy(f, 'dest_folder')"
   ]
  },
  {
   "cell_type": "code",
   "execution_count": 39,
   "metadata": {},
   "outputs": [],
   "source": [
    "train_files=[]\n",
    "test_files=[]\n",
    "for count, filename in enumerate(os.listdir('F://desktop_links_are_from_here//final_year_project//cotur//PetImages//Cat//')):\n",
    "    if count<train_number:\n",
    "        train_files.append(filename)\n",
    "    else:\n",
    "        test_files.append(filename)"
   ]
  },
  {
   "cell_type": "code",
   "execution_count": 45,
   "metadata": {},
   "outputs": [],
   "source": [
    "for i in train_files:\n",
    "    shutil.copy('F://desktop_links_are_from_here//final_year_project//cotur//PetImages//Cat//'+i,'F://desktop_links_are_from_here//final_year_project//cotur//PetImages//train//')"
   ]
  },
  {
   "cell_type": "code",
   "execution_count": 46,
   "metadata": {},
   "outputs": [],
   "source": [
    "for i in test_files:\n",
    "    shutil.copy('F://desktop_links_are_from_here//final_year_project//cotur//PetImages//Cat//'+i,'F://desktop_links_are_from_here//final_year_project//cotur//PetImages//test//')"
   ]
  },
  {
   "cell_type": "code",
   "execution_count": 48,
   "metadata": {},
   "outputs": [],
   "source": [
    "train_files=[]\n",
    "test_files=[]\n",
    "for count, filename in enumerate(os.listdir('F://desktop_links_are_from_here//final_year_project//cotur//PetImages//Dog//')):\n",
    "    if count<train_number:\n",
    "        train_files.append(filename)\n",
    "    else:\n",
    "        test_files.append(filename)"
   ]
  },
  {
   "cell_type": "code",
   "execution_count": 49,
   "metadata": {},
   "outputs": [],
   "source": [
    "for i in train_files:\n",
    "    shutil.copy('F://desktop_links_are_from_here//final_year_project//cotur//PetImages//Dog//'+i,'F://desktop_links_are_from_here//final_year_project//cotur//PetImages//train//')"
   ]
  },
  {
   "cell_type": "code",
   "execution_count": 51,
   "metadata": {},
   "outputs": [],
   "source": [
    "for i in test_files:\n",
    "    shutil.copy('F://desktop_links_are_from_here//final_year_project//cotur//PetImages//Dog//'+i,'F://desktop_links_are_from_here//final_year_project//cotur//PetImages//test//')"
   ]
  },
  {
   "cell_type": "code",
   "execution_count": 27,
   "metadata": {},
   "outputs": [
    {
     "name": "stdout",
     "output_type": "stream",
     "text": [
      "8749\n"
     ]
    }
   ],
   "source": [
    "print(train_number)"
   ]
  },
  {
   "cell_type": "code",
   "execution_count": 28,
   "metadata": {},
   "outputs": [
    {
     "name": "stdout",
     "output_type": "stream",
     "text": [
      "12499\n"
     ]
    }
   ],
   "source": [
    "print(len(list))"
   ]
  },
  {
   "cell_type": "code",
   "execution_count": 29,
   "metadata": {},
   "outputs": [
    {
     "name": "stdout",
     "output_type": "stream",
     "text": [
      "3749\n"
     ]
    }
   ],
   "source": [
    "print(test_number)"
   ]
  },
  {
   "cell_type": "code",
   "execution_count": 30,
   "metadata": {},
   "outputs": [
    {
     "name": "stdout",
     "output_type": "stream",
     "text": [
      "12498\n"
     ]
    }
   ],
   "source": [
    "print(test_number+train_number)"
   ]
  },
  {
   "cell_type": "code",
   "execution_count": 41,
   "metadata": {},
   "outputs": [
    {
     "name": "stdout",
     "output_type": "stream",
     "text": [
      "8749\n"
     ]
    }
   ],
   "source": [
    "print(len(train_files))"
   ]
  },
  {
   "cell_type": "code",
   "execution_count": 42,
   "metadata": {},
   "outputs": [
    {
     "name": "stdout",
     "output_type": "stream",
     "text": [
      "3750\n"
     ]
    }
   ],
   "source": [
    "print(len(test_files))"
   ]
  },
  {
   "cell_type": "code",
   "execution_count": null,
   "metadata": {},
   "outputs": [],
   "source": []
  }
 ],
 "metadata": {
  "kernelspec": {
   "display_name": "Python 3",
   "language": "python",
   "name": "python3"
  },
  "language_info": {
   "codemirror_mode": {
    "name": "ipython",
    "version": 3
   },
   "file_extension": ".py",
   "mimetype": "text/x-python",
   "name": "python",
   "nbconvert_exporter": "python",
   "pygments_lexer": "ipython3",
   "version": "3.7.3"
  }
 },
 "nbformat": 4,
 "nbformat_minor": 2
}
