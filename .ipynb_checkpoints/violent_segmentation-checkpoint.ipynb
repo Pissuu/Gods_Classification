{
 "cells": [
  {
   "cell_type": "code",
   "execution_count": 1,
   "metadata": {},
   "outputs": [],
   "source": [
    "import cv2\n",
    "import numpy as np\n",
    "import argparse\n",
    "import os\n",
    "import csv\n",
    "import time\n",
    "from random import randint"
   ]
  },
  {
   "cell_type": "code",
   "execution_count": 6,
   "metadata": {},
   "outputs": [
    {
     "name": "stdout",
     "output_type": "stream",
     "text": [
      "['V_1.mp4', 'V_13.mp4', 'V_14.mp4', 'V_15.mp4', 'V_16.mp4', 'V_21.mp4', 'V_23.mp4', 'V_35.mp4', 'V_37.mp4', 'V_44.mp4', 'V_54.mp4', 'V_56.mp4', 'V_6.mp4', 'V_70.mp4', 'V_766.mp4', 'V_84.mp4', 'V_90.mp4', 'V_95.mp4']\n"
     ]
    }
   ],
   "source": [
    "list=os.listdir(r'F:\\desktop_links_are_from_here\\final_year_project\\cotur\\selected_violent')"
   ]
  },
  {
   "cell_type": "code",
   "execution_count": 8,
   "metadata": {},
   "outputs": [
    {
     "ename": "FileExistsError",
     "evalue": "[WinError 183] Cannot create a file when that file already exists: 'F://desktop_links_are_from_here//final_year_project//cotur//selected_violent\\\\V_1'",
     "output_type": "error",
     "traceback": [
      "\u001b[1;31m---------------------------------------------------------------------------\u001b[0m",
      "\u001b[1;31mFileExistsError\u001b[0m                           Traceback (most recent call last)",
      "\u001b[1;32m<ipython-input-8-4a2e51d0e80e>\u001b[0m in \u001b[0;36m<module>\u001b[1;34m\u001b[0m\n\u001b[0;32m      3\u001b[0m     \u001b[0mpath\u001b[0m\u001b[1;33m=\u001b[0m\u001b[1;34m\"F://desktop_links_are_from_here//final_year_project//cotur//selected_violent\"\u001b[0m\u001b[1;33m\u001b[0m\u001b[1;33m\u001b[0m\u001b[0m\n\u001b[0;32m      4\u001b[0m     \u001b[0mpath\u001b[0m\u001b[1;33m=\u001b[0m\u001b[0mos\u001b[0m\u001b[1;33m.\u001b[0m\u001b[0mpath\u001b[0m\u001b[1;33m.\u001b[0m\u001b[0mjoin\u001b[0m\u001b[1;33m(\u001b[0m\u001b[0mpath\u001b[0m\u001b[1;33m,\u001b[0m\u001b[0mvideo_file_name\u001b[0m\u001b[1;33m)\u001b[0m\u001b[1;33m\u001b[0m\u001b[1;33m\u001b[0m\u001b[0m\n\u001b[1;32m----> 5\u001b[1;33m     \u001b[0mos\u001b[0m\u001b[1;33m.\u001b[0m\u001b[0mmkdir\u001b[0m\u001b[1;33m(\u001b[0m\u001b[0mpath\u001b[0m\u001b[1;33m)\u001b[0m\u001b[1;33m\u001b[0m\u001b[1;33m\u001b[0m\u001b[0m\n\u001b[0m\u001b[0;32m      6\u001b[0m     \u001b[0mprint\u001b[0m\u001b[1;33m(\u001b[0m\u001b[0mpath\u001b[0m\u001b[1;33m)\u001b[0m\u001b[1;33m\u001b[0m\u001b[1;33m\u001b[0m\u001b[0m\n\u001b[0;32m      7\u001b[0m     \u001b[0mcap\u001b[0m \u001b[1;33m=\u001b[0m \u001b[0mcv2\u001b[0m\u001b[1;33m.\u001b[0m\u001b[0mVideoCapture\u001b[0m\u001b[1;33m(\u001b[0m\u001b[1;34m'videos/'\u001b[0m\u001b[1;33m+\u001b[0m\u001b[0mvideo_name\u001b[0m\u001b[1;33m)\u001b[0m\u001b[1;33m\u001b[0m\u001b[1;33m\u001b[0m\u001b[0m\n",
      "\u001b[1;31mFileExistsError\u001b[0m: [WinError 183] Cannot create a file when that file already exists: 'F://desktop_links_are_from_here//final_year_project//cotur//selected_violent\\\\V_1'"
     ]
    }
   ],
   "source": [
    "for video_name in list:\n",
    "    video_file_name=video_name.split('.')[-2]\n",
    "    path='F:\\desktop_links_are_from_here\\final_year_project\\cotur\\selected_violent'\n",
    "    path=os.path.join(path,video_file_name)\n",
    "    os.mkdir(path)\n",
    "    print(path)\n",
    "    cap = cv2.VideoCapture('videos/'+video_name)\n",
    "    #Find FPS\n",
    "    (major_ver, minor_ver, subminor_ver) = (cv2.__version__).split('.')\n",
    "    if int(major_ver) < 3:\n",
    "        fps = int(cap.get(cv2.cv.CV_CAP_PROP_FPS))\n",
    "        print (\"Frames per second using video.get(cv2.cv.CV_CAP_PROP_FPS): {0}\".format(fps))\n",
    "    else:\n",
    "        fps = int(cap.get(cv2.CAP_PROP_FPS))\n",
    "        print(\"Frames per second using video.get(cv2.CAP_PROP_FPS) : {0}\".format(fps))\n",
    "\n",
    "    i=0\n",
    "    j=0\n",
    "    final_fps=4\n",
    "    block=1\n",
    "    selected_frames=[]\n",
    "    while (len(selected_frames)<final_fps):\n",
    "        r=randint(1,fps)\n",
    "        if r not in selected_frames:\n",
    "            selected_frames.append(r)\n",
    "    selected_frames.sort()\n",
    "\n",
    "    def update_frames(lb,ub):\n",
    "        selected_frames=[]\n",
    "        while (len(selected_frames) < final_fps):\n",
    "            r = randint(lb, ub)\n",
    "            if r not in selected_frames:\n",
    "                selected_frames.append(r)\n",
    "        selected_frames.sort()\n",
    "        return selected_frames\n",
    "\n",
    "    v_name=video_name.split('.')\n",
    "    v=v_name[0]\n",
    "\n",
    "    while(cap.isOpened()):\n",
    "        if j == final_fps:\n",
    "            lb = fps * block\n",
    "            ub = fps * (block + 1)\n",
    "            selected_frames = update_frames(lb, ub)\n",
    "            j = 0\n",
    "            block += 1\n",
    "        ret, frame = cap.read()\n",
    "        if ret == False:\n",
    "            break\n",
    "        fname = v + '-frame' + str(i) + '.jpg'\n",
    "        if i in selected_frames:\n",
    "#             path1=os.path.join(path,fname)\n",
    "#             cv2.imwrite(path1, frame)\n",
    "            cv2.imwrite('C:/Users/Jairaj Pisupati/AppData/Roaming/SPB_16.6/Gods_Classification/extracted_frames/violent/'+fname,frame)\n",
    "            j += 1\n",
    "    #        apply_yolo(fname, frame,writer)\n",
    "#             print(j, selected_frames)\n",
    "        i += 1\n",
    "\n",
    "    cap.release()\n",
    "    cv2.destroyAllWindows()"
   ]
  },
  {
   "cell_type": "code",
   "execution_count": 4,
   "metadata": {},
   "outputs": [
    {
     "name": "stdout",
     "output_type": "stream",
     "text": [
      "V_1\n",
      "C://Users//Jairaj Pisupati//AppData//Roaming//SPB_16.6//Gods_Classification//V_1\n",
      "V_13\n",
      "C://Users//Jairaj Pisupati//AppData//Roaming//SPB_16.6//Gods_Classification//V_13\n",
      "V_16\n",
      "C://Users//Jairaj Pisupati//AppData//Roaming//SPB_16.6//Gods_Classification//V_16\n",
      "V_21\n",
      "C://Users//Jairaj Pisupati//AppData//Roaming//SPB_16.6//Gods_Classification//V_21\n",
      "V_23\n",
      "C://Users//Jairaj Pisupati//AppData//Roaming//SPB_16.6//Gods_Classification//V_23\n",
      "V_35\n",
      "C://Users//Jairaj Pisupati//AppData//Roaming//SPB_16.6//Gods_Classification//V_35\n",
      "V_44\n",
      "C://Users//Jairaj Pisupati//AppData//Roaming//SPB_16.6//Gods_Classification//V_44\n",
      "V_54\n",
      "C://Users//Jairaj Pisupati//AppData//Roaming//SPB_16.6//Gods_Classification//V_54\n",
      "V_56\n",
      "C://Users//Jairaj Pisupati//AppData//Roaming//SPB_16.6//Gods_Classification//V_56\n",
      "V_70\n",
      "C://Users//Jairaj Pisupati//AppData//Roaming//SPB_16.6//Gods_Classification//V_70\n",
      "V_84\n",
      "C://Users//Jairaj Pisupati//AppData//Roaming//SPB_16.6//Gods_Classification//V_84\n",
      "V_90\n",
      "C://Users//Jairaj Pisupati//AppData//Roaming//SPB_16.6//Gods_Classification//V_90\n",
      "V_95\n",
      "C://Users//Jairaj Pisupati//AppData//Roaming//SPB_16.6//Gods_Classification//V_95\n"
     ]
    }
   ],
   "source": [
    "# for video_name in list:\n",
    "#     video_file_name=video_name.split('.')[-2]\n",
    "#     print(video_file_name)\n",
    "#     path=\"C://Users//Jairaj Pisupati//AppData//Roaming//SPB_16.6//Gods_Classification//\"\n",
    "#     violent=\"_violent\"\n",
    "#     path=os.path.join(path,video_file_name)\n",
    "#     os.path.join(path,violent)\n",
    "#     print(path)\n",
    "#     os.mkdir(path)"
   ]
  },
  {
   "cell_type": "code",
   "execution_count": null,
   "metadata": {},
   "outputs": [],
   "source": []
  }
 ],
 "metadata": {
  "kernelspec": {
   "display_name": "Python 3",
   "language": "python",
   "name": "python3"
  },
  "language_info": {
   "codemirror_mode": {
    "name": "ipython",
    "version": 3
   },
   "file_extension": ".py",
   "mimetype": "text/x-python",
   "name": "python",
   "nbconvert_exporter": "python",
   "pygments_lexer": "ipython3",
   "version": "3.7.3"
  }
 },
 "nbformat": 4,
 "nbformat_minor": 2
}
