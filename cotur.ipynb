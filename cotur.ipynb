{
 "cells": [
  {
   "cell_type": "code",
   "execution_count": 193,
   "metadata": {},
   "outputs": [],
   "source": [
    "import cv2                 # working with, mainly resizing, images\n",
    "import numpy as np         # dealing with arrays\n",
    "import os                  # dealing with directories\n",
    "from random import shuffle # mixing up or currently ordered data that might lead our network astray in training.\n",
    "from tqdm import tqdm      # a nice pretty percentage bar for tasks. Thanks to viewer Daniel BA1/4hler for this suggestion\n",
    "from PIL import Image, ImageOps\n",
    "\n",
    "from keras.layers import Input, Dense, Activation, BatchNormalization, Flatten, Conv2D\n",
    "from keras.layers import MaxPooling2D, Dropout\n",
    "from keras.models import Model, load_model\n",
    "\n",
    "import matplotlib.pyplot as plt\n",
    "\n",
    "TRAIN_DIR = r'C:\\Users\\Jairaj Pisupati\\AppData\\Roaming\\SPB_16.6\\Gods_Classification\\God\\God_train'\n",
    "TEST_DIR = r'C:\\Users\\Jairaj Pisupati\\AppData\\Roaming\\SPB_16.6\\Gods_Classification\\God\\God_test'\n",
    "IMG_SIZE = 50"
   ]
  },
  {
   "cell_type": "code",
   "execution_count": 194,
   "metadata": {},
   "outputs": [],
   "source": [
    "def label_img(img):\n",
    "    word_label = img.split('.')[-2]\n",
    "    word_label=word_label[-8:] #for violent vs non-violent\n",
    "#     word_label=word_label[-3:] #for cat vs dog\n",
    "#     print(word_label)\n",
    "    if word_label == '_violent': #checks if it is non-violent\n",
    "        return [1,0]\n",
    "    \n",
    "    else:\n",
    "        return [0,1]"
   ]
  },
  {
   "cell_type": "code",
   "execution_count": 195,
   "metadata": {},
   "outputs": [],
   "source": [
    "def add_border(input_image, output_image, border, color=0):\n",
    "    img = Image.open(input_image)\n",
    "\n",
    "    if isinstance(border, int) or isinstance(border, tuple):\n",
    "        bimg = ImageOps.expand(img, border=border, fill=color)\n",
    "    else:\n",
    "        raise RuntimeError('Border is not an integer or tuple!')\n",
    "\n",
    "    bimg.save(output_image)"
   ]
  },
  {
   "cell_type": "code",
   "execution_count": 196,
   "metadata": {},
   "outputs": [],
   "source": [
    "def create_train_data():\n",
    "    training_data = []\n",
    "    for img in tqdm(os.listdir(TRAIN_DIR)):\n",
    "        label = label_img(img)\n",
    "        path = os.path.join(TRAIN_DIR,img)\n",
    "        if os.path.exists(path):\n",
    "            img = cv2.imread(path,cv2.IMREAD_GRAYSCALE)\n",
    "            try:\n",
    "                img = cv2.resize(img, (IMG_SIZE,IMG_SIZE))\n",
    "            except:\n",
    "                print(path)\n",
    "            training_data.append([np.array(img),np.array(label)])\n",
    "    shuffle(training_data)\n",
    "    np.save('train_data.npy', training_data)\n",
    "    return training_data"
   ]
  },
  {
   "cell_type": "code",
   "execution_count": 197,
   "metadata": {},
   "outputs": [
    {
     "name": "stderr",
     "output_type": "stream",
     "text": [
      "100%|██████████| 418/418 [00:02<00:00, 183.74it/s]\n"
     ]
    }
   ],
   "source": [
    "train = create_train_data()\n",
    "train = np.load(\"train_data.npy\", allow_pickle=True)"
   ]
  },
  {
   "cell_type": "code",
   "execution_count": 198,
   "metadata": {},
   "outputs": [],
   "source": [
    "def create_test_data():\n",
    "    testing_data = []\n",
    "    for img in tqdm(os.listdir(TEST_DIR)):\n",
    "        label = label_img(img)\n",
    "        path = os.path.join(TEST_DIR,img)\n",
    "        img = cv2.imread(path,cv2.IMREAD_GRAYSCALE)\n",
    "        try:\n",
    "            img = cv2.resize(img, (IMG_SIZE,IMG_SIZE))\n",
    "        except:\n",
    "            print(path)\n",
    "        testing_data.append([np.array(img),np.array(label)])\n",
    "    shuffle(testing_data)\n",
    "    np.save('test_data.npy', testing_data)\n",
    "    return testing_data"
   ]
  },
  {
   "cell_type": "code",
   "execution_count": 199,
   "metadata": {},
   "outputs": [
    {
     "name": "stderr",
     "output_type": "stream",
     "text": [
      "100%|██████████| 126/126 [00:00<00:00, 197.39it/s]\n"
     ]
    },
    {
     "name": "stdout",
     "output_type": "stream",
     "text": [
      "[array([[124, 145, 155, ..., 175, 200, 210],\n",
      "       [122, 152, 156, ..., 145, 193, 213],\n",
      "       [131, 157, 162, ..., 209, 214, 216],\n",
      "       ...,\n",
      "       [139, 132, 123, ..., 110, 105, 209],\n",
      "       [138, 137, 132, ..., 103,  28, 124],\n",
      "       [123, 131, 117, ..., 105,  28,  20]], dtype=uint8)\n",
      " array([0, 1])]\n"
     ]
    }
   ],
   "source": [
    "test = create_test_data()\n",
    "test = np.load(\"test_data.npy\", allow_pickle=True)\n",
    "print(test[0])"
   ]
  },
  {
   "cell_type": "code",
   "execution_count": 242,
   "metadata": {},
   "outputs": [],
   "source": [
    "train_list=os.listdir('C://Users//Jairaj Pisupati//AppData//Roaming//SPB_16.6//Gods_Classification//God//God_train//')\n",
    "test_list=os.listdir('C://Users//Jairaj Pisupati//AppData//Roaming//SPB_16.6//Gods_Classification//God//God_test//')\n",
    "train_X = np.empty([len(train_list), IMG_SIZE, IMG_SIZE, 1])\n",
    "train_Y = np.empty([len(train_list), 2])\n",
    "test_X = np.empty([len(test_list), IMG_SIZE, IMG_SIZE, 1])\n",
    "test_Y = np.empty([len(test_list),2])"
   ]
  },
  {
   "cell_type": "code",
   "execution_count": 243,
   "metadata": {},
   "outputs": [
    {
     "name": "stdout",
     "output_type": "stream",
     "text": [
      "126\n"
     ]
    }
   ],
   "source": [
    "print(len(test_list))"
   ]
  },
  {
   "cell_type": "code",
   "execution_count": 244,
   "metadata": {},
   "outputs": [],
   "source": [
    "for i in range(len(train)):\n",
    "    try:\n",
    "        train_X[i] = train[i][0].reshape(IMG_SIZE, IMG_SIZE, 1)\n",
    "        train_Y[i] = train[i][1]\n",
    "    except:\n",
    "        print(i)\n",
    "\n",
    "for i in range(len(test)):\n",
    "    try:\n",
    "        test_X[i] = test[i][0].reshape(IMG_SIZE, IMG_SIZE, 1)\n",
    "        test_Y[i] = test[i][1]\n",
    "    except:\n",
    "        print(i)"
   ]
  },
  {
   "cell_type": "code",
   "execution_count": 245,
   "metadata": {},
   "outputs": [],
   "source": [
    "def model(input_shape):\n",
    "    \n",
    "    X_input = Input(input_shape)\n",
    "\n",
    "    X = Conv2D(32, (5, 5), strides = (1, 1), name = 'conv0', padding='same')(X_input) #32 filters of 5*5 dimension\n",
    "    X = BatchNormalization(axis = 3, name = 'bn0')(X)\n",
    "    X = Activation('relu')(X)\n",
    "    # MAXPOOL\n",
    "    X = MaxPooling2D((5, 5), name='max_pool0', padding='same')(X)\n",
    "\n",
    "    \n",
    "    X = Conv2D(64, (5, 5), strides = (1, 1), name = 'conv1', padding='same')(X)\n",
    "    X = BatchNormalization(axis = 3, name = 'bn1')(X)\n",
    "    X = Activation('relu')(X)\n",
    "    # MAXPOOL\n",
    "    X = MaxPooling2D((5, 5), name='max_pool1', padding='same')(X)\n",
    "    \n",
    "    \n",
    "    X = Conv2D(128, (5, 5), strides = (1, 1), name = 'conv2', padding='same')(X)\n",
    "    X = BatchNormalization(axis = 3, name = 'bn2')(X)\n",
    "    X = Activation('relu')(X)\n",
    "    # MAXPOOL\n",
    "    X = MaxPooling2D((5, 5), name='max_pool2', padding='same')(X)\n",
    "    \n",
    "        \n",
    "    X = Conv2D(256, (5, 5), strides = (1, 1), name = 'conv3', padding='same')(X)\n",
    "    X = BatchNormalization(axis = 3, name = 'bn3')(X)\n",
    "    X = Activation('relu')(X)\n",
    "    # MAXPOOL\n",
    "    X = MaxPooling2D((5, 5), name='max_pool3', padding='same')(X)\n",
    "        \n",
    "        \n",
    "    X = Conv2D(128, (5, 5), strides = (1, 1), name = 'conv4', padding='same')(X)\n",
    "    X = BatchNormalization(axis = 3, name = 'bn4')(X)\n",
    "    X = Activation('relu')(X)\n",
    "    # MAXPOOL\n",
    "    X = MaxPooling2D((5, 5), name='max_pool4', padding='same')(X)\n",
    "    \n",
    "    \n",
    "    X = Conv2D(64, (5, 5), strides = (1, 1), name = 'conv5', padding='same')(X)\n",
    "    X = BatchNormalization(axis = 3, name = 'bn5')(X)\n",
    "    X = Activation('relu')(X)\n",
    "    # MAXPOOL\n",
    "    X = MaxPooling2D((5, 5), name='max_pool5', padding='same')(X)\n",
    "    \n",
    "    \n",
    "    X = Conv2D(32, (5, 5), strides = (1, 1), name = 'conv6', padding='same')(X)\n",
    "    X = BatchNormalization(axis = 3, name = 'bn6')(X)\n",
    "    X = Activation('relu')(X)\n",
    "    # MAXPOOL\n",
    "    X = MaxPooling2D((5, 5), name='max_pool6', padding='same')(X)\n",
    "    \n",
    "    \n",
    "    # FLATTEN X (means convert it to a vector) + FULLYCONNECTED\n",
    "    X = Flatten()(X)\n",
    "    X = Dense(1024, activation='relu', name='fc1')(X)\n",
    "    X = Dropout(0.8)(X)\n",
    "    \n",
    "    X = Dense(2, activation='softmax', name='fc2')(X)\n",
    "\n",
    "    # Create model. This creates your Keras model instance, you'll use this instance to train/test the model.\n",
    "    model = Model(inputs = X_input, outputs = X, name='Model')\n",
    "    \n",
    "    return model"
   ]
  },
  {
   "cell_type": "code",
   "execution_count": 246,
   "metadata": {},
   "outputs": [],
   "source": [
    "model = model(train_X.shape[1:])\n",
    "\n",
    "model.compile(optimizer='adam', loss='categorical_crossentropy', metrics=['accuracy'])"
   ]
  },
  {
   "cell_type": "code",
   "execution_count": 254,
   "metadata": {},
   "outputs": [
    {
     "name": "stdout",
     "output_type": "stream",
     "text": [
      "Train on 418 samples, validate on 126 samples\n",
      "Epoch 1/30\n",
      " - 6s - loss: 0.2445 - acc: 0.8923 - val_loss: 0.5843 - val_acc: 0.7937\n",
      "Epoch 2/30\n",
      " - 3s - loss: 0.2830 - acc: 0.8923 - val_loss: 0.1416 - val_acc: 0.9524\n",
      "Epoch 3/30\n",
      " - 3s - loss: 0.1237 - acc: 0.9689 - val_loss: 0.0559 - val_acc: 1.0000\n",
      "Epoch 4/30\n",
      " - 3s - loss: 0.0877 - acc: 0.9737 - val_loss: 0.5351 - val_acc: 0.8095\n",
      "Epoch 5/30\n",
      " - 3s - loss: 0.1202 - acc: 0.9545 - val_loss: 2.6658 - val_acc: 0.4921\n",
      "Epoch 6/30\n",
      " - 3s - loss: 0.1908 - acc: 0.9330 - val_loss: 0.2172 - val_acc: 0.8968\n",
      "Epoch 7/30\n",
      " - 3s - loss: 0.1498 - acc: 0.9402 - val_loss: 0.1454 - val_acc: 0.9524\n",
      "Epoch 8/30\n",
      " - 3s - loss: 0.0797 - acc: 0.9785 - val_loss: 0.5738 - val_acc: 0.7857\n",
      "Epoch 9/30\n",
      " - 3s - loss: 0.1979 - acc: 0.9426 - val_loss: 2.2480 - val_acc: 0.5397\n",
      "Epoch 10/30\n",
      " - 3s - loss: 0.2085 - acc: 0.9330 - val_loss: 1.5651 - val_acc: 0.5079\n",
      "Epoch 11/30\n",
      " - 3s - loss: 0.1409 - acc: 0.9450 - val_loss: 0.6055 - val_acc: 0.6429\n",
      "Epoch 12/30\n",
      " - 3s - loss: 0.1032 - acc: 0.9641 - val_loss: 0.9390 - val_acc: 0.5714\n",
      "Epoch 13/30\n",
      " - 3s - loss: 0.1146 - acc: 0.9617 - val_loss: 0.5751 - val_acc: 0.7302\n",
      "Epoch 14/30\n",
      " - 3s - loss: 0.0925 - acc: 0.9761 - val_loss: 0.1170 - val_acc: 0.9683\n",
      "Epoch 15/30\n",
      " - 3s - loss: 0.0936 - acc: 0.9689 - val_loss: 0.5909 - val_acc: 0.6984\n",
      "Epoch 16/30\n",
      " - 3s - loss: 0.0714 - acc: 0.9761 - val_loss: 2.0584 - val_acc: 0.4841\n",
      "Epoch 17/30\n",
      " - 3s - loss: 0.1050 - acc: 0.9665 - val_loss: 0.9237 - val_acc: 0.6587\n",
      "Epoch 18/30\n",
      " - 3s - loss: 0.1212 - acc: 0.9617 - val_loss: 0.6578 - val_acc: 0.7302\n",
      "Epoch 19/30\n",
      " - 3s - loss: 0.1821 - acc: 0.9426 - val_loss: 4.0642 - val_acc: 0.5079\n",
      "Epoch 20/30\n",
      " - 3s - loss: 0.1352 - acc: 0.9426 - val_loss: 1.8412 - val_acc: 0.6667\n",
      "Epoch 21/30\n",
      " - 3s - loss: 0.1243 - acc: 0.9641 - val_loss: 1.8905 - val_acc: 0.6032\n",
      "Epoch 22/30\n",
      " - 3s - loss: 0.0700 - acc: 0.9737 - val_loss: 1.4313 - val_acc: 0.6667\n",
      "Epoch 23/30\n",
      " - 3s - loss: 0.0505 - acc: 0.9809 - val_loss: 0.6041 - val_acc: 0.7698\n",
      "Epoch 24/30\n",
      " - 3s - loss: 0.0386 - acc: 0.9904 - val_loss: 0.4286 - val_acc: 0.7698\n",
      "Epoch 25/30\n",
      " - 3s - loss: 0.0846 - acc: 0.9761 - val_loss: 0.4852 - val_acc: 0.7619\n",
      "Epoch 26/30\n",
      " - 3s - loss: 0.1032 - acc: 0.9665 - val_loss: 0.6837 - val_acc: 0.7857\n",
      "Epoch 27/30\n",
      " - 3s - loss: 0.0488 - acc: 0.9856 - val_loss: 0.3906 - val_acc: 0.8095\n",
      "Epoch 28/30\n",
      " - 3s - loss: 0.0642 - acc: 0.9785 - val_loss: 0.1459 - val_acc: 0.9365\n",
      "Epoch 29/30\n",
      " - 3s - loss: 0.0541 - acc: 0.9856 - val_loss: 0.0450 - val_acc: 0.9921\n",
      "Epoch 30/30\n",
      " - 3s - loss: 0.0540 - acc: 0.9880 - val_loss: 0.0167 - val_acc: 1.0000\n"
     ]
    },
    {
     "data": {
      "text/plain": [
       "<keras.callbacks.History at 0x15c27d33c50>"
      ]
     },
     "execution_count": 254,
     "metadata": {},
     "output_type": "execute_result"
    }
   ],
   "source": [
    "model.fit(train_X, train_Y, epochs=30, shuffle=True, validation_data=(test_X, test_Y), verbose=2)"
   ]
  },
  {
   "cell_type": "code",
   "execution_count": 255,
   "metadata": {},
   "outputs": [],
   "source": [
    "model.save(\"model2.h5\")"
   ]
  },
  {
   "cell_type": "code",
   "execution_count": 256,
   "metadata": {},
   "outputs": [],
   "source": [
    "model = load_model(\"model2.h5\")"
   ]
  },
  {
   "cell_type": "code",
   "execution_count": 257,
   "metadata": {},
   "outputs": [
    {
     "name": "stdout",
     "output_type": "stream",
     "text": [
      "loss = 0.016699558981354275\n",
      "accuracy = 1.0\n"
     ]
    }
   ],
   "source": [
    "predict = model.evaluate(test_X, test_Y, verbose=2)\n",
    "\n",
    "print(\"loss = \" + str(predict[0]))\n",
    "print(\"accuracy = \" + str(predict[1]))"
   ]
  },
  {
   "cell_type": "code",
   "execution_count": 275,
   "metadata": {},
   "outputs": [
    {
     "name": "stdout",
     "output_type": "stream",
     "text": [
      "[[  5   8   8 ...   4   4   3]\n",
      " [  4   8   8 ...   4   8  19]\n",
      " [  4   8   8 ...  26  35  58]\n",
      " ...\n",
      " [175 182 174 ... 187 185 175]\n",
      " [177 178 172 ... 188 185 177]\n",
      " [176 178 166 ... 192 187 180]]\n"
     ]
    },
    {
     "data": {
      "image/png": "[encoded data removed]",
      "text/plain": [
       "<Figure size 432x288 with 1 Axes>"
      ]
     },
     "metadata": {
      "needs_background": "light"
     },
     "output_type": "display_data"
    }
   ],
   "source": [
    "img_path = r'C:\\Users\\Jairaj Pisupati\\AppData\\Roaming\\SPB_16.6\\Gods_Classification\\God\\v4.jpg'\n",
    "img = cv2.imread(img_path,cv2.IMREAD_GRAYSCALE)\n",
    "plt.imshow(img)\n",
    "img = cv2.resize(img, (IMG_SIZE,IMG_SIZE))"
   ]
  },
  {
   "cell_type": "code",
   "execution_count": 273,
   "metadata": {},
   "outputs": [
    {
     "name": "stdout",
     "output_type": "stream",
     "text": [
      "It's violent!\n"
     ]
    }
   ],
   "source": [
    "pred = model.predict(img.reshape(1, IMG_SIZE, IMG_SIZE, 1))\n",
    "if pred[0][0] > pred[0][1]:\n",
    "    print(\"It's non_violent!\")\n",
    "#     in_img = img_path\n",
    "#     word_label = in_img.split('.jpg')[-2]\n",
    "#     word_label=word_label+\"_classified.jpg\"\n",
    "#   add_border(in_img,output_image=word_label,border=100,color='green')\n",
    "else:\n",
    "    print(\"It's violent!\")\n",
    "#     in_img = img_path\n",
    "#     word_label = in_img.split('.jpg')[-2]\n",
    "#     word_label=word_label+\"_classified.jpg\"\n",
    "#     add_border(in_img,output_image=word_label,border=100,color='red')\n",
    "# img = cv2.imread(word_label,cv2.IMREAD_GRAYSCALE)\n",
    "# plt.imshow(img"
   ]
  },
  {
   "cell_type": "code",
   "execution_count": 229,
   "metadata": {},
   "outputs": [
    {
     "name": "stdout",
     "output_type": "stream",
     "text": [
      "0.4311917897254702\n"
     ]
    }
   ],
   "source": [
    "print(str(predict[0]))\n"
   ]
  },
  {
   "cell_type": "code",
   "execution_count": 230,
   "metadata": {},
   "outputs": [
    {
     "name": "stdout",
     "output_type": "stream",
     "text": [
      "0.17152674\n"
     ]
    }
   ],
   "source": [
    "print(pred[0][1])\n"
   ]
  },
  {
   "cell_type": "code",
   "execution_count": 231,
   "metadata": {},
   "outputs": [
    {
     "name": "stdout",
     "output_type": "stream",
     "text": [
      "0.8284732\n"
     ]
    }
   ],
   "source": [
    "print(pred[0][0])"
   ]
  },
  {
   "cell_type": "code",
   "execution_count": null,
   "metadata": {},
   "outputs": [],
   "source": [
    "print(np.array([1][0]))"
   ]
  },
  {
   "cell_type": "code",
   "execution_count": null,
   "metadata": {},
   "outputs": [],
   "source": []
  }
 ],
 "metadata": {
  "kernelspec": {
   "display_name": "Python 3",
   "language": "python",
   "name": "python3"
  },
  "language_info": {
   "codemirror_mode": {
    "name": "ipython",
    "version": 3
   },
   "file_extension": ".py",
   "mimetype": "text/x-python",
   "name": "python",
   "nbconvert_exporter": "python",
   "pygments_lexer": "ipython3",
   "version": "3.7.3"
  }
 },
 "nbformat": 4,
 "nbformat_minor": 2
}
