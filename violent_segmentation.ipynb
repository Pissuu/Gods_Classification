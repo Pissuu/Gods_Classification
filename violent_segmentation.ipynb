{
 "cells": [
  {
   "cell_type": "code",
   "execution_count": 1,
   "metadata": {},
   "outputs": [],
   "source": [
    "import cv2\n",
    "import numpy as np\n",
    "import argparse\n",
    "import os\n",
    "import csv\n",
    "import time\n",
    "from random import randint"
   ]
  },
  {
   "cell_type": "code",
   "execution_count": 2,
   "metadata": {},
   "outputs": [],
   "source": [
    "list=os.listdir('C://Users//Jairaj Pisupati//AppData//Roaming//SPB_16.6//Gods_Classification//videos')\n"
   ]
  },
  {
   "cell_type": "code",
   "execution_count": 3,
   "metadata": {},
   "outputs": [
    {
     "name": "stdout",
     "output_type": "stream",
     "text": [
      "Frames per second using video.get(cv2.CAP_PROP_FPS) : 15\n",
      "Frames per second using video.get(cv2.CAP_PROP_FPS) : 29\n",
      "Frames per second using video.get(cv2.CAP_PROP_FPS) : 29\n",
      "Frames per second using video.get(cv2.CAP_PROP_FPS) : 29\n",
      "Frames per second using video.get(cv2.CAP_PROP_FPS) : 29\n",
      "Frames per second using video.get(cv2.CAP_PROP_FPS) : 25\n",
      "Frames per second using video.get(cv2.CAP_PROP_FPS) : 30\n",
      "Frames per second using video.get(cv2.CAP_PROP_FPS) : 30\n",
      "Frames per second using video.get(cv2.CAP_PROP_FPS) : 30\n",
      "Frames per second using video.get(cv2.CAP_PROP_FPS) : 29\n",
      "Frames per second using video.get(cv2.CAP_PROP_FPS) : 29\n",
      "Frames per second using video.get(cv2.CAP_PROP_FPS) : 29\n",
      "Frames per second using video.get(cv2.CAP_PROP_FPS) : 29\n"
     ]
    }
   ],
   "source": [
    "for video_name in list:\n",
    "    video_file_name=video_name.split('.')[-2]\n",
    "    path=\"C:\\\\Users\\\\Jairaj Pisupati\\\\AppData\\\\Roaming\\\\SPB_16.6\\\\Gods_Classification\\\\extracted_frames\\\\violent\"\n",
    "#     path=os.path.join(path,video_file_name)\n",
    "#     os.mkdir(path)\n",
    "#     print(path)\n",
    "    cap = cv2.VideoCapture('videos/'+video_name)\n",
    "    #Find FPS\n",
    "    (major_ver, minor_ver, subminor_ver) = (cv2.__version__).split('.')\n",
    "    if int(major_ver) < 3:\n",
    "        fps = int(cap.get(cv2.cv.CV_CAP_PROP_FPS))\n",
    "        print (\"Frames per second using video.get(cv2.cv.CV_CAP_PROP_FPS): {0}\".format(fps))\n",
    "    else:\n",
    "        fps = int(cap.get(cv2.CAP_PROP_FPS))\n",
    "        print(\"Frames per second using video.get(cv2.CAP_PROP_FPS) : {0}\".format(fps))\n",
    "\n",
    "    i=0\n",
    "    j=0\n",
    "    final_fps=4\n",
    "    block=1\n",
    "    selected_frames=[]\n",
    "    while (len(selected_frames)<final_fps):\n",
    "        r=randint(1,fps)\n",
    "        if r not in selected_frames:\n",
    "            selected_frames.append(r)\n",
    "    selected_frames.sort()\n",
    "\n",
    "    def update_frames(lb,ub):\n",
    "        selected_frames=[]\n",
    "        while (len(selected_frames) < final_fps):\n",
    "            r = randint(lb, ub)\n",
    "            if r not in selected_frames:\n",
    "                selected_frames.append(r)\n",
    "        selected_frames.sort()\n",
    "        return selected_frames\n",
    "\n",
    "    v_name=video_name.split('.')\n",
    "    v=v_name[0]\n",
    "\n",
    "    while(cap.isOpened()):\n",
    "        if j == final_fps:\n",
    "            lb = fps * block\n",
    "            ub = fps * (block + 1)\n",
    "            selected_frames = update_frames(lb, ub)\n",
    "            j = 0\n",
    "            block += 1\n",
    "        ret, frame = cap.read()\n",
    "        if ret == False:\n",
    "            break\n",
    "        fname = v + '-frame' + str(i) + '.jpg'\n",
    "        if i in selected_frames:\n",
    "#             path1=os.path.join(path,fname)\n",
    "#             cv2.imwrite(path1, frame)\n",
    "            cv2.imwrite('C:/Users/Jairaj Pisupati/AppData/Roaming/SPB_16.6/Gods_Classification/extracted_frames/violent/'+fname,frame)\n",
    "            j += 1\n",
    "    #        apply_yolo(fname, frame,writer)\n",
    "#             print(j, selected_frames)\n",
    "        i += 1\n",
    "\n",
    "    cap.release()\n",
    "    cv2.destroyAllWindows()"
   ]
  },
  {
   "cell_type": "code",
   "execution_count": 4,
   "metadata": {},
   "outputs": [
    {
     "name": "stdout",
     "output_type": "stream",
     "text": [
      "V_1\n",
      "C://Users//Jairaj Pisupati//AppData//Roaming//SPB_16.6//Gods_Classification//V_1\n",
      "V_13\n",
      "C://Users//Jairaj Pisupati//AppData//Roaming//SPB_16.6//Gods_Classification//V_13\n",
      "V_16\n",
      "C://Users//Jairaj Pisupati//AppData//Roaming//SPB_16.6//Gods_Classification//V_16\n",
      "V_21\n",
      "C://Users//Jairaj Pisupati//AppData//Roaming//SPB_16.6//Gods_Classification//V_21\n",
      "V_23\n",
      "C://Users//Jairaj Pisupati//AppData//Roaming//SPB_16.6//Gods_Classification//V_23\n",
      "V_35\n",
      "C://Users//Jairaj Pisupati//AppData//Roaming//SPB_16.6//Gods_Classification//V_35\n",
      "V_44\n",
      "C://Users//Jairaj Pisupati//AppData//Roaming//SPB_16.6//Gods_Classification//V_44\n",
      "V_54\n",
      "C://Users//Jairaj Pisupati//AppData//Roaming//SPB_16.6//Gods_Classification//V_54\n",
      "V_56\n",
      "C://Users//Jairaj Pisupati//AppData//Roaming//SPB_16.6//Gods_Classification//V_56\n",
      "V_70\n",
      "C://Users//Jairaj Pisupati//AppData//Roaming//SPB_16.6//Gods_Classification//V_70\n",
      "V_84\n",
      "C://Users//Jairaj Pisupati//AppData//Roaming//SPB_16.6//Gods_Classification//V_84\n",
      "V_90\n",
      "C://Users//Jairaj Pisupati//AppData//Roaming//SPB_16.6//Gods_Classification//V_90\n",
      "V_95\n",
      "C://Users//Jairaj Pisupati//AppData//Roaming//SPB_16.6//Gods_Classification//V_95\n"
     ]
    }
   ],
   "source": [
    "# for video_name in list:\n",
    "#     video_file_name=video_name.split('.')[-2]\n",
    "#     print(video_file_name)\n",
    "#     path=\"C://Users//Jairaj Pisupati//AppData//Roaming//SPB_16.6//Gods_Classification//\"\n",
    "#     violent=\"_violent\"\n",
    "#     path=os.path.join(path,video_file_name)\n",
    "#     os.path.join(path,violent)\n",
    "#     print(path)\n",
    "#     os.mkdir(path)"
   ]
  },
  {
   "cell_type": "code",
   "execution_count": null,
   "metadata": {},
   "outputs": [],
   "source": []
  }
 ],
 "metadata": {
  "kernelspec": {
   "display_name": "Python 3",
   "language": "python",
   "name": "python3"
  },
  "language_info": {
   "codemirror_mode": {
    "name": "ipython",
    "version": 3
   },
   "file_extension": ".py",
   "mimetype": "text/x-python",
   "name": "python",
   "nbconvert_exporter": "python",
   "pygments_lexer": "ipython3",
   "version": "3.7.3"
  }
 },
 "nbformat": 4,
 "nbformat_minor": 2
}
